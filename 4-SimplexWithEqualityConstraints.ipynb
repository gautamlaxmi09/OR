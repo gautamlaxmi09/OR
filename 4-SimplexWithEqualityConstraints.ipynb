{
  "nbformat": 4,
  "nbformat_minor": 0,
  "metadata": {
    "colab": {
      "name": "SimplexWithEqualityConstraints.ipynb",
      "provenance": [],
      "collapsed_sections": []
    },
    "kernelspec": {
      "name": "python3",
      "display_name": "Python 3"
    },
    "language_info": {
      "name": "python"
    }
  },
  "cells": [
    {
      "cell_type": "code",
      "metadata": {
        "id": "Ubi5Ceo3HohE"
      },
      "source": [
        "from scipy.optimize import linprog"
      ],
      "execution_count": null,
      "outputs": []
    },
    {
      "cell_type": "code",
      "metadata": {
        "id": "3KOQhIVsHqfe"
      },
      "source": [
        "#Max z=x+2y\n",
        "#subject to\n",
        "#2x+y<=20\n",
        "#-4x+5y<=10\n",
        "#-x+2y>=-2\n",
        "#-x+5y=15\n",
        "#x,y>=0\n"
      ],
      "execution_count": null,
      "outputs": []
    },
    {
      "cell_type": "code",
      "metadata": {
        "id": "3ckfpGqHHqgr"
      },
      "source": [
        "obj=[-1,-2]"
      ],
      "execution_count": null,
      "outputs": []
    },
    {
      "cell_type": "code",
      "metadata": {
        "id": "GVRHyKr-JeZN"
      },
      "source": [
        "lhs_ineq=[[2,1],\n",
        "          [-4,5],\n",
        "          [1,-2]]"
      ],
      "execution_count": null,
      "outputs": []
    },
    {
      "cell_type": "code",
      "metadata": {
        "id": "OW4w4FRcJzmh"
      },
      "source": [
        "rhs_ineq=[20,\n",
        "          10,\n",
        "          2]"
      ],
      "execution_count": null,
      "outputs": []
    },
    {
      "cell_type": "code",
      "metadata": {
        "id": "SEe7W2azJ5V5"
      },
      "source": [
        "lhs_eq=[[-1,5]]\n",
        "rhs_eq=[15]"
      ],
      "execution_count": null,
      "outputs": []
    },
    {
      "cell_type": "code",
      "metadata": {
        "id": "twFwYvacMWZp"
      },
      "source": [
        "bnd=[(0,float(\"inf\")),\n",
        "     (0,float(\"inf\"))]"
      ],
      "execution_count": null,
      "outputs": []
    },
    {
      "cell_type": "code",
      "metadata": {
        "colab": {
          "base_uri": "https://localhost:8080/"
        },
        "id": "HHPQS5zrK2pb",
        "outputId": "771884f5-ac52-4f66-f9cf-9115daeb8ddc"
      },
      "source": [
        "opt=linprog(c=obj,A_ub=lhs_ineq,b_ub=rhs_ineq,\n",
        "            A_eq=lhs_eq,b_eq=rhs_eq,bounds=bnd,\n",
        "            method=\"revised simplex\")\n",
        "opt"
      ],
      "execution_count": null,
      "outputs": [
        {
          "output_type": "execute_result",
          "data": {
            "text/plain": [
              "     con: array([1.77635684e-15])\n",
              "     fun: -16.818181818181817\n",
              " message: 'Optimization terminated successfully.'\n",
              "     nit: 3\n",
              "   slack: array([ 0.        , 18.18181818,  3.36363636])\n",
              "  status: 0\n",
              " success: True\n",
              "       x: array([7.72727273, 4.54545455])"
            ]
          },
          "metadata": {},
          "execution_count": 20
        }
      ]
    }
  ]
}