{
  "nbformat": 4,
  "nbformat_minor": 0,
  "metadata": {
    "colab": {
      "name": "simplexWith3var.ipynb",
      "provenance": [],
      "collapsed_sections": []
    },
    "kernelspec": {
      "name": "python3",
      "display_name": "Python 3"
    },
    "language_info": {
      "name": "python"
    }
  },
  "cells": [
    {
      "cell_type": "code",
      "metadata": {
        "id": "ats6ugJlC_RA"
      },
      "source": [
        "from scipy.optimize import linprog"
      ],
      "execution_count": null,
      "outputs": []
    },
    {
      "cell_type": "code",
      "metadata": {
        "id": "9Cdk2rPlDMhW"
      },
      "source": [
        "#Min z=x1-3x2+2x3\n",
        "#subject to\n",
        "#3x1-x2+3x3<=7\n",
        "#-2x1+4x2<=12\n",
        "#-4x1+3x2+8x3<=10\n",
        "#x1,x2,x3>0\n"
      ],
      "execution_count": null,
      "outputs": []
    },
    {
      "cell_type": "code",
      "metadata": {
        "id": "ySmTP7zxEp4V"
      },
      "source": [
        "obj=[1,-3,2]"
      ],
      "execution_count": null,
      "outputs": []
    },
    {
      "cell_type": "code",
      "metadata": {
        "id": "u4Y6lx98Ezy-"
      },
      "source": [
        "lhs_ineq=[[3,-1,3],\n",
        "          [-2,4,0],\n",
        "          [-4,3,8]]"
      ],
      "execution_count": null,
      "outputs": []
    },
    {
      "cell_type": "code",
      "metadata": {
        "id": "5qyluy6ZFSwL"
      },
      "source": [
        "rhs_ineq=[7,\n",
        "          12,\n",
        "          10]"
      ],
      "execution_count": null,
      "outputs": []
    },
    {
      "cell_type": "code",
      "metadata": {
        "id": "CdxeILgNFrqF"
      },
      "source": [
        "bnd=[(0,float(\"inf\")),\n",
        "     (0,float(\"inf\")),\n",
        "     (0,float(\"inf\"))]"
      ],
      "execution_count": null,
      "outputs": []
    },
    {
      "cell_type": "code",
      "metadata": {
        "colab": {
          "base_uri": "https://localhost:8080/"
        },
        "id": "t82IdEwsGQ9H",
        "outputId": "6e4d617c-48b2-44e2-9f18-ce5178f5458c"
      },
      "source": [
        "opt=linprog(c=obj,A_ub=lhs_ineq,b_ub=rhs_ineq,bounds=bnd,method=\"revised simplex\")\n",
        "opt"
      ],
      "execution_count": null,
      "outputs": [
        {
          "output_type": "execute_result",
          "data": {
            "text/plain": [
              "     con: array([], dtype=float64)\n",
              "     fun: -11.0\n",
              " message: 'Optimization terminated successfully.'\n",
              "     nit: 2\n",
              "   slack: array([ 0.,  0., 11.])\n",
              "  status: 0\n",
              " success: True\n",
              "       x: array([4., 5., 0.])"
            ]
          },
          "metadata": {},
          "execution_count": 7
        }
      ]
    },
    {
      "cell_type": "code",
      "metadata": {
        "id": "r9Vp9YovG7gG"
      },
      "source": [
        ""
      ],
      "execution_count": null,
      "outputs": []
    }
  ]
}